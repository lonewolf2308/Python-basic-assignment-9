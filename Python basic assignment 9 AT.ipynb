{
 "cells": [
  {
   "cell_type": "code",
   "execution_count": null,
   "id": "d1c12373",
   "metadata": {},
   "outputs": [],
   "source": [
    "1. To what does a relative path refer?\n"
   ]
  },
  {
   "cell_type": "code",
   "execution_count": null,
   "id": "1f7bb45f",
   "metadata": {},
   "outputs": [],
   "source": [
    "Ans: The relative path is the path to some file with respect to your current working directory (PWD).\n"
   ]
  },
  {
   "cell_type": "code",
   "execution_count": null,
   "id": "ed4ee509",
   "metadata": {},
   "outputs": [],
   "source": [
    "2.Where does an absolute path start with your Operating System ?\n"
   ]
  },
  {
   "cell_type": "code",
   "execution_count": null,
   "id": "4f5158b2",
   "metadata": {},
   "outputs": [],
   "source": [
    "Ans: In Linux based systems the absolute path starts with /. Where as in Windows based systems absolute path starts with C:\n"
   ]
  },
  {
   "cell_type": "code",
   "execution_count": null,
   "id": "7e599b7d",
   "metadata": {},
   "outputs": [],
   "source": [
    "3.What does the functions os.getcwd() and os.chdir() do ?\n"
   ]
  },
  {
   "cell_type": "code",
   "execution_count": null,
   "id": "4a29e809",
   "metadata": {},
   "outputs": [],
   "source": [
    "Ans.  The os.getcwd() function returns the current working directory. The os.chdir() function changes the current working directory.\n"
   ]
  },
  {
   "cell_type": "code",
   "execution_count": null,
   "id": "cf52e802",
   "metadata": {},
   "outputs": [],
   "source": [
    "4. What are the . and .. folders?\n"
   ]
  },
  {
   "cell_type": "code",
   "execution_count": null,
   "id": "f96ee170",
   "metadata": {},
   "outputs": [],
   "source": [
    "Ans: . Represents the Current Directory Whereas .. Represents the Parent Directory of the Current Directory\n"
   ]
  },
  {
   "cell_type": "code",
   "execution_count": null,
   "id": "6dd3bf6d",
   "metadata": {},
   "outputs": [],
   "source": [
    "5.In C:\\bacon\\eggs\\spam.txt which part is the dir name and which part is the base name ?\n"
   ]
  },
  {
   "cell_type": "code",
   "execution_count": null,
   "id": "83348960",
   "metadata": {},
   "outputs": [],
   "source": [
    "Ans: For C:\\bacon\\eggs\\spam.txt\n",
    "The dir name is C:\\\\bacon\\\\eggs\n",
    "The Base name is spam.txt"
   ]
  },
  {
   "cell_type": "code",
   "execution_count": null,
   "id": "10a5e0b7",
   "metadata": {},
   "outputs": [],
   "source": [
    "6.What are the three mode arguments that can be passed to the open() function ?\n"
   ]
  },
  {
   "cell_type": "code",
   "execution_count": null,
   "id": "fe6e4801",
   "metadata": {},
   "outputs": [],
   "source": [
    "Ans.  'r' for read mode, 'w' for write mode, and 'a' for append mode.\n"
   ]
  },
  {
   "cell_type": "code",
   "execution_count": null,
   "id": "9f8c1b24",
   "metadata": {},
   "outputs": [],
   "source": [
    "7. What happens if an existing file is opened in write mode?\n"
   ]
  },
  {
   "cell_type": "code",
   "execution_count": null,
   "id": "7a34a427",
   "metadata": {},
   "outputs": [],
   "source": [
    "Ans: Using this mode will overwrite any existing content in a file. If the given file does not exist, a new one will be created.\n"
   ]
  },
  {
   "cell_type": "code",
   "execution_count": null,
   "id": "6a77fbd2",
   "metadata": {},
   "outputs": [],
   "source": [
    "8.How do you tell the difference between read() and readlines() ?\n"
   ]
  },
  {
   "cell_type": "code",
   "execution_count": null,
   "id": "5727f754",
   "metadata": {},
   "outputs": [],
   "source": [
    "Ans: The main difference is that read() will read the whole file at once and then print out the first characters that take up as many bytes as you specify in the parenthesis\n",
    "\n",
    "Whereas the readline() that will read and print out only the first characters that take up as many bytes as you specify in the parenthesis. You may want to use readline() when you're reading files that are too big for your RAM.\n",
    "The read() would treat each character in the file separately, meaning that the iteration would happen for every character.\n",
    "The readline() function, on the other hand, only reads a single line of the file. This means that if the first line of the file were three lines long, the readline() function would only parse (or iterate/operate) on the first line of the file."
   ]
  },
  {
   "cell_type": "code",
   "execution_count": null,
   "id": "60c23271",
   "metadata": {},
   "outputs": [],
   "source": [
    "9.What data structure does a shelf value resemble ?\n"
   ]
  },
  {
   "cell_type": "code",
   "execution_count": null,
   "id": "aaae743e",
   "metadata": {},
   "outputs": [],
   "source": [
    "Ans.  A shelf value resembles a dictionary value; it has keys and values, along with keys() and values() methods that work similarly to the dictionary methods of the same names."
   ]
  }
 ],
 "metadata": {
  "kernelspec": {
   "display_name": "Python 3 (ipykernel)",
   "language": "python",
   "name": "python3"
  },
  "language_info": {
   "codemirror_mode": {
    "name": "ipython",
    "version": 3
   },
   "file_extension": ".py",
   "mimetype": "text/x-python",
   "name": "python",
   "nbconvert_exporter": "python",
   "pygments_lexer": "ipython3",
   "version": "3.9.7"
  }
 },
 "nbformat": 4,
 "nbformat_minor": 5
}
